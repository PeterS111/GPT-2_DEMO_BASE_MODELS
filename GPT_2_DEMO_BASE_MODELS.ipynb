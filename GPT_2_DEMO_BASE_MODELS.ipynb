{
  "nbformat": 4,
  "nbformat_minor": 0,
  "metadata": {
    "colab": {
      "name": "GPT-2_DEMO_BASE_MODELS.ipynb",
      "provenance": [],
      "collapsed_sections": []
    },
    "kernelspec": {
      "name": "python3",
      "display_name": "Python 3"
    },
    "accelerator": "GPU"
  },
  "cells": [
    {
      "cell_type": "code",
      "metadata": {
        "id": "lhi_uB03Wzfi",
        "colab": {
          "base_uri": "https://localhost:8080/"
        },
        "outputId": "5126f5f3-03bd-4a30-f097-76a903b6dfac"
      },
      "source": [
        "!nvidia-smi"
      ],
      "execution_count": 1,
      "outputs": [
        {
          "output_type": "stream",
          "text": [
            "Thu Dec 10 10:55:21 2020       \n",
            "+-----------------------------------------------------------------------------+\n",
            "| NVIDIA-SMI 455.45.01    Driver Version: 418.67       CUDA Version: 10.1     |\n",
            "|-------------------------------+----------------------+----------------------+\n",
            "| GPU  Name        Persistence-M| Bus-Id        Disp.A | Volatile Uncorr. ECC |\n",
            "| Fan  Temp  Perf  Pwr:Usage/Cap|         Memory-Usage | GPU-Util  Compute M. |\n",
            "|                               |                      |               MIG M. |\n",
            "|===============================+======================+======================|\n",
            "|   0  Tesla T4            Off  | 00000000:00:04.0 Off |                    0 |\n",
            "| N/A   44C    P8     9W /  70W |      0MiB / 15079MiB |      0%      Default |\n",
            "|                               |                      |                 ERR! |\n",
            "+-------------------------------+----------------------+----------------------+\n",
            "                                                                               \n",
            "+-----------------------------------------------------------------------------+\n",
            "| Processes:                                                                  |\n",
            "|  GPU   GI   CI        PID   Type   Process name                  GPU Memory |\n",
            "|        ID   ID                                                   Usage      |\n",
            "|=============================================================================|\n",
            "|  No running processes found                                                 |\n",
            "+-----------------------------------------------------------------------------+\n"
          ],
          "name": "stdout"
        }
      ]
    },
    {
      "cell_type": "code",
      "metadata": {
        "id": "l4BKKt01Wzwt",
        "colab": {
          "base_uri": "https://localhost:8080/"
        },
        "outputId": "150b4a37-11f4-4ffc-c799-feb08360859c"
      },
      "source": [
        "!git clone https://github.com/PeterS111/GPT-2_DEMO_BASE_MODELS/"
      ],
      "execution_count": 2,
      "outputs": [
        {
          "output_type": "stream",
          "text": [
            "Cloning into 'GPT-2_DEMO_BASE_MODELS'...\n",
            "remote: Enumerating objects: 29, done.\u001b[K\n",
            "remote: Counting objects: 100% (29/29), done.\u001b[K\n",
            "remote: Compressing objects: 100% (22/22), done.\u001b[K\n",
            "remote: Total 29 (delta 5), reused 0 (delta 0), pack-reused 0\u001b[K\n",
            "Unpacking objects: 100% (29/29), done.\n"
          ],
          "name": "stdout"
        }
      ]
    },
    {
      "cell_type": "code",
      "metadata": {
        "id": "EoVN9fGFhyDJ",
        "colab": {
          "base_uri": "https://localhost:8080/"
        },
        "outputId": "791f22b5-fe30-4460-b73b-ae04696ae966"
      },
      "source": [
        "%tensorflow_version 1.x"
      ],
      "execution_count": 3,
      "outputs": [
        {
          "output_type": "stream",
          "text": [
            "TensorFlow 1.x selected.\n"
          ],
          "name": "stdout"
        }
      ]
    },
    {
      "cell_type": "code",
      "metadata": {
        "id": "CgvL8mMGWz_w",
        "colab": {
          "base_uri": "https://localhost:8080/",
          "height": 938
        },
        "outputId": "280cfe6a-8f3c-4af7-a570-e4cecb4a20aa"
      },
      "source": [
        "# You don't have to restart the runtime\r\n",
        "\r\n",
        "!pip3 install -r /content/GPT-2_DEMO_BASE_MODELS/requirements.txt"
      ],
      "execution_count": 4,
      "outputs": [
        {
          "output_type": "stream",
          "text": [
            "Collecting fire>=0.1.3\n",
            "\u001b[?25l  Downloading https://files.pythonhosted.org/packages/34/a7/0e22e70778aca01a52b9c899d9c145c6396d7b613719cd63db97ffa13f2f/fire-0.3.1.tar.gz (81kB)\n",
            "\u001b[K     |████████████████████████████████| 81kB 7.0MB/s \n",
            "\u001b[?25hCollecting regex==2017.4.5\n",
            "\u001b[?25l  Downloading https://files.pythonhosted.org/packages/36/62/c0c0d762ffd4ffaf39f372eb8561b8d491a11ace5a7884610424a8b40f95/regex-2017.04.05.tar.gz (601kB)\n",
            "\u001b[K     |████████████████████████████████| 604kB 27.0MB/s \n",
            "\u001b[?25hCollecting requests==2.21.0\n",
            "\u001b[?25l  Downloading https://files.pythonhosted.org/packages/7d/e3/20f3d364d6c8e5d2353c72a67778eb189176f08e873c9900e10c0287b84b/requests-2.21.0-py2.py3-none-any.whl (57kB)\n",
            "\u001b[K     |████████████████████████████████| 61kB 10.0MB/s \n",
            "\u001b[?25hCollecting tqdm==4.31.1\n",
            "\u001b[?25l  Downloading https://files.pythonhosted.org/packages/6c/4b/c38b5144cf167c4f52288517436ccafefe9dc01b8d1c190e18a6b154cd4a/tqdm-4.31.1-py2.py3-none-any.whl (48kB)\n",
            "\u001b[K     |████████████████████████████████| 51kB 9.2MB/s \n",
            "\u001b[?25hCollecting toposort==1.5\n",
            "  Downloading https://files.pythonhosted.org/packages/e9/8a/321cd8ea5f4a22a06e3ba30ef31ec33bea11a3443eeb1d89807640ee6ed4/toposort-1.5-py2.py3-none-any.whl\n",
            "Requirement already satisfied: six in /usr/local/lib/python3.6/dist-packages (from fire>=0.1.3->-r /content/GPT-2_DEMO_BASE_MODELS/requirements.txt (line 1)) (1.15.0)\n",
            "Requirement already satisfied: termcolor in /usr/local/lib/python3.6/dist-packages (from fire>=0.1.3->-r /content/GPT-2_DEMO_BASE_MODELS/requirements.txt (line 1)) (1.1.0)\n",
            "Collecting idna<2.9,>=2.5\n",
            "\u001b[?25l  Downloading https://files.pythonhosted.org/packages/14/2c/cd551d81dbe15200be1cf41cd03869a46fe7226e7450af7a6545bfc474c9/idna-2.8-py2.py3-none-any.whl (58kB)\n",
            "\u001b[K     |████████████████████████████████| 61kB 10.3MB/s \n",
            "\u001b[?25hRequirement already satisfied: certifi>=2017.4.17 in /usr/local/lib/python3.6/dist-packages (from requests==2.21.0->-r /content/GPT-2_DEMO_BASE_MODELS/requirements.txt (line 3)) (2020.11.8)\n",
            "Requirement already satisfied: chardet<3.1.0,>=3.0.2 in /usr/local/lib/python3.6/dist-packages (from requests==2.21.0->-r /content/GPT-2_DEMO_BASE_MODELS/requirements.txt (line 3)) (3.0.4)\n",
            "Requirement already satisfied: urllib3<1.25,>=1.21.1 in /usr/local/lib/python3.6/dist-packages (from requests==2.21.0->-r /content/GPT-2_DEMO_BASE_MODELS/requirements.txt (line 3)) (1.24.3)\n",
            "Building wheels for collected packages: fire, regex\n",
            "  Building wheel for fire (setup.py) ... \u001b[?25l\u001b[?25hdone\n",
            "  Created wheel for fire: filename=fire-0.3.1-py2.py3-none-any.whl size=111005 sha256=996363ebe7d7ed27a157ba07b47d916fc94c92b0f0c164e0b8b109b55e161900\n",
            "  Stored in directory: /root/.cache/pip/wheels/c1/61/df/768b03527bf006b546dce284eb4249b185669e65afc5fbb2ac\n",
            "  Building wheel for regex (setup.py) ... \u001b[?25l\u001b[?25hdone\n",
            "  Created wheel for regex: filename=regex-2017.4.5-cp36-cp36m-linux_x86_64.whl size=533201 sha256=b280188d6ac10918cb5528104a0af3752f9d0cf9165c760a0333fb1672b0400a\n",
            "  Stored in directory: /root/.cache/pip/wheels/75/07/38/3c16b529d50cb4e0cd3dbc7b75cece8a09c132692c74450b01\n",
            "Successfully built fire regex\n",
            "\u001b[31mERROR: spacy 2.2.4 has requirement tqdm<5.0.0,>=4.38.0, but you'll have tqdm 4.31.1 which is incompatible.\u001b[0m\n",
            "\u001b[31mERROR: google-colab 1.0.0 has requirement requests~=2.23.0, but you'll have requests 2.21.0 which is incompatible.\u001b[0m\n",
            "\u001b[31mERROR: fbprophet 0.7.1 has requirement tqdm>=4.36.1, but you'll have tqdm 4.31.1 which is incompatible.\u001b[0m\n",
            "\u001b[31mERROR: datascience 0.10.6 has requirement folium==0.2.1, but you'll have folium 0.8.3 which is incompatible.\u001b[0m\n",
            "Installing collected packages: fire, regex, idna, requests, tqdm, toposort\n",
            "  Found existing installation: regex 2019.12.20\n",
            "    Uninstalling regex-2019.12.20:\n",
            "      Successfully uninstalled regex-2019.12.20\n",
            "  Found existing installation: idna 2.10\n",
            "    Uninstalling idna-2.10:\n",
            "      Successfully uninstalled idna-2.10\n",
            "  Found existing installation: requests 2.23.0\n",
            "    Uninstalling requests-2.23.0:\n",
            "      Successfully uninstalled requests-2.23.0\n",
            "  Found existing installation: tqdm 4.41.1\n",
            "    Uninstalling tqdm-4.41.1:\n",
            "      Successfully uninstalled tqdm-4.41.1\n",
            "Successfully installed fire-0.3.1 idna-2.8 regex-2017.4.5 requests-2.21.0 toposort-1.5 tqdm-4.31.1\n"
          ],
          "name": "stdout"
        },
        {
          "output_type": "display_data",
          "data": {
            "application/vnd.colab-display-data+json": {
              "pip_warning": {
                "packages": [
                  "idna",
                  "requests"
                ]
              }
            }
          },
          "metadata": {
            "tags": []
          }
        }
      ]
    },
    {
      "cell_type": "code",
      "metadata": {
        "id": "ZK_r2VvxW0Ov"
      },
      "source": [
        "## AVAILABLE MODELS: 117M, 124M, 345M, 355M, 774M 1558M"
      ],
      "execution_count": null,
      "outputs": []
    },
    {
      "cell_type": "code",
      "metadata": {
        "id": "c40YoqpxW0dZ",
        "colab": {
          "base_uri": "https://localhost:8080/"
        },
        "outputId": "a0f97e2e-74f9-4711-e438-211ef2da18bd"
      },
      "source": [
        "## DOWNLOAD PRE_TRAINED MODEL\n",
        "!python /content/GPT-2_DEMO_BASE_MODELS/download_model.py 345M"
      ],
      "execution_count": 5,
      "outputs": [
        {
          "output_type": "stream",
          "text": [
            "\rFetching checkpoint:   0%|                                              | 0.00/77.0 [00:00<?, ?it/s]\rFetching checkpoint: 1.00kit [00:00, 1.10Mit/s]                                                     \n",
            "\rFetching encoder.json:   0%|                                           | 0.00/1.04M [00:00<?, ?it/s]\rFetching encoder.json: 1.04Mit [00:00, 48.5Mit/s]                                                   \n",
            "Fetching hparams.json: 1.00kit [00:00, 1.19Mit/s]                                                   \n",
            "Fetching model.ckpt.data-00000-of-00001: 1.42Git [00:17, 79.2Mit/s]                                 \n",
            "Fetching model.ckpt.index: 11.0kit [00:00, 10.0Mit/s]                                               \n",
            "Fetching model.ckpt.meta: 927kit [00:00, 61.9Mit/s]                                                 \n",
            "Fetching vocab.bpe: 457kit [00:00, 55.0Mit/s]                                                       \n"
          ],
          "name": "stdout"
        }
      ]
    },
    {
      "cell_type": "code",
      "metadata": {
        "id": "B0vU0PQpqApI",
        "colab": {
          "base_uri": "https://localhost:8080/"
        },
        "outputId": "3c97c99b-0c92-41ca-91c9-f0d5b4fa1f83"
      },
      "source": [
        "# move the models to main folder\r\n",
        "!mv -v  /content/models/* /content/GPT-2_DEMO_BASE_MODELS/models/"
      ],
      "execution_count": 6,
      "outputs": [
        {
          "output_type": "stream",
          "text": [
            "renamed '/content/models/345M' -> '/content/GPT-2_DEMO_BASE_MODELS/models/345M'\n"
          ],
          "name": "stdout"
        }
      ]
    },
    {
      "cell_type": "code",
      "metadata": {
        "id": "C_JQvuWSQ4ih"
      },
      "source": [
        ""
      ],
      "execution_count": null,
      "outputs": []
    },
    {
      "cell_type": "code",
      "metadata": {
        "id": "ZP0L_hES62q3",
        "colab": {
          "base_uri": "https://localhost:8080/"
        },
        "outputId": "8a95bf9a-3f77-4c7a-fa53-07d7cde84cab"
      },
      "source": [
        "cd /content/GPT-2_DEMO_BASE_MODELS"
      ],
      "execution_count": 7,
      "outputs": [
        {
          "output_type": "stream",
          "text": [
            "/content/GPT-2_DEMO_BASE_MODELS\n"
          ],
          "name": "stdout"
        }
      ]
    },
    {
      "cell_type": "code",
      "metadata": {
        "id": "0oxiojGM6xj4"
      },
      "source": [
        "!python interactive_conditional_samples.py --model_name=345M --nsamples=4 --batch_size=1 --length=500"
      ],
      "execution_count": null,
      "outputs": []
    },
    {
      "cell_type": "code",
      "metadata": {
        "id": "QZRlAD6fPJd4"
      },
      "source": [
        "!python generate_conditional_samples_to_file.py --model_name=124M --length 300 --seed 50 --temperature 1.0 --top_k 50 --top_p 1.0 --nsamples 1 --raw_text \"I love you\""
      ],
      "execution_count": null,
      "outputs": []
    },
    {
      "cell_type": "code",
      "metadata": {
        "id": "J83yubJeJ3gx",
        "colab": {
          "base_uri": "https://localhost:8080/"
        },
        "outputId": "c30b3600-2610-4ccc-9a74-12c3f50282a2"
      },
      "source": [
        "!python generate_unconditional_samples_to_file.py --model_name=345M --length 300 --seed 50 --temperature 1.0 --top_k 50 --top_p 1.0 --nsamples 5 "
      ],
      "execution_count": 13,
      "outputs": [
        {
          "output_type": "stream",
          "text": [
            "WARNING:tensorflow:From /content/GPT-2_DEMO_BASE_MODELS/model.py:147: The name tf.AUTO_REUSE is deprecated. Please use tf.compat.v1.AUTO_REUSE instead.\n",
            "\n",
            "WARNING:tensorflow:From generate_unconditional_samples_to_file.py:53: The name tf.Session is deprecated. Please use tf.compat.v1.Session instead.\n",
            "\n",
            "2020-12-10 11:07:32.756454: I tensorflow/stream_executor/platform/default/dso_loader.cc:44] Successfully opened dynamic library libcuda.so.1\n",
            "2020-12-10 11:07:32.792102: I tensorflow/stream_executor/cuda/cuda_gpu_executor.cc:983] successful NUMA node read from SysFS had negative value (-1), but there must be at least one NUMA node, so returning NUMA node zero\n",
            "2020-12-10 11:07:32.792693: I tensorflow/core/common_runtime/gpu/gpu_device.cc:1639] Found device 0 with properties: \n",
            "name: Tesla T4 major: 7 minor: 5 memoryClockRate(GHz): 1.59\n",
            "pciBusID: 0000:00:04.0\n",
            "2020-12-10 11:07:32.792953: I tensorflow/stream_executor/platform/default/dso_loader.cc:44] Successfully opened dynamic library libcudart.so.10.1\n",
            "2020-12-10 11:07:32.794296: I tensorflow/stream_executor/platform/default/dso_loader.cc:44] Successfully opened dynamic library libcublas.so.10\n",
            "2020-12-10 11:07:32.795725: I tensorflow/stream_executor/platform/default/dso_loader.cc:44] Successfully opened dynamic library libcufft.so.10\n",
            "2020-12-10 11:07:32.796036: I tensorflow/stream_executor/platform/default/dso_loader.cc:44] Successfully opened dynamic library libcurand.so.10\n",
            "2020-12-10 11:07:32.797408: I tensorflow/stream_executor/platform/default/dso_loader.cc:44] Successfully opened dynamic library libcusolver.so.10\n",
            "2020-12-10 11:07:32.798098: I tensorflow/stream_executor/platform/default/dso_loader.cc:44] Successfully opened dynamic library libcusparse.so.10\n",
            "2020-12-10 11:07:32.802128: I tensorflow/stream_executor/platform/default/dso_loader.cc:44] Successfully opened dynamic library libcudnn.so.7\n",
            "2020-12-10 11:07:32.802267: I tensorflow/stream_executor/cuda/cuda_gpu_executor.cc:983] successful NUMA node read from SysFS had negative value (-1), but there must be at least one NUMA node, so returning NUMA node zero\n",
            "2020-12-10 11:07:32.803090: I tensorflow/stream_executor/cuda/cuda_gpu_executor.cc:983] successful NUMA node read from SysFS had negative value (-1), but there must be at least one NUMA node, so returning NUMA node zero\n",
            "2020-12-10 11:07:32.803820: I tensorflow/core/common_runtime/gpu/gpu_device.cc:1767] Adding visible gpu devices: 0\n",
            "2020-12-10 11:07:32.810728: I tensorflow/core/platform/profile_utils/cpu_utils.cc:94] CPU Frequency: 2200000000 Hz\n",
            "2020-12-10 11:07:32.810914: I tensorflow/compiler/xla/service/service.cc:168] XLA service 0x2b192c0 initialized for platform Host (this does not guarantee that XLA will be used). Devices:\n",
            "2020-12-10 11:07:32.810940: I tensorflow/compiler/xla/service/service.cc:176]   StreamExecutor device (0): Host, Default Version\n",
            "2020-12-10 11:07:32.918772: I tensorflow/stream_executor/cuda/cuda_gpu_executor.cc:983] successful NUMA node read from SysFS had negative value (-1), but there must be at least one NUMA node, so returning NUMA node zero\n",
            "2020-12-10 11:07:32.919430: I tensorflow/compiler/xla/service/service.cc:168] XLA service 0x2b19480 initialized for platform CUDA (this does not guarantee that XLA will be used). Devices:\n",
            "2020-12-10 11:07:32.919459: I tensorflow/compiler/xla/service/service.cc:176]   StreamExecutor device (0): Tesla T4, Compute Capability 7.5\n",
            "2020-12-10 11:07:32.919661: I tensorflow/stream_executor/cuda/cuda_gpu_executor.cc:983] successful NUMA node read from SysFS had negative value (-1), but there must be at least one NUMA node, so returning NUMA node zero\n",
            "2020-12-10 11:07:32.920193: I tensorflow/core/common_runtime/gpu/gpu_device.cc:1639] Found device 0 with properties: \n",
            "name: Tesla T4 major: 7 minor: 5 memoryClockRate(GHz): 1.59\n",
            "pciBusID: 0000:00:04.0\n",
            "2020-12-10 11:07:32.920250: I tensorflow/stream_executor/platform/default/dso_loader.cc:44] Successfully opened dynamic library libcudart.so.10.1\n",
            "2020-12-10 11:07:32.920290: I tensorflow/stream_executor/platform/default/dso_loader.cc:44] Successfully opened dynamic library libcublas.so.10\n",
            "2020-12-10 11:07:32.920315: I tensorflow/stream_executor/platform/default/dso_loader.cc:44] Successfully opened dynamic library libcufft.so.10\n",
            "2020-12-10 11:07:32.920337: I tensorflow/stream_executor/platform/default/dso_loader.cc:44] Successfully opened dynamic library libcurand.so.10\n",
            "2020-12-10 11:07:32.920362: I tensorflow/stream_executor/platform/default/dso_loader.cc:44] Successfully opened dynamic library libcusolver.so.10\n",
            "2020-12-10 11:07:32.920382: I tensorflow/stream_executor/platform/default/dso_loader.cc:44] Successfully opened dynamic library libcusparse.so.10\n",
            "2020-12-10 11:07:32.920402: I tensorflow/stream_executor/platform/default/dso_loader.cc:44] Successfully opened dynamic library libcudnn.so.7\n",
            "2020-12-10 11:07:32.920473: I tensorflow/stream_executor/cuda/cuda_gpu_executor.cc:983] successful NUMA node read from SysFS had negative value (-1), but there must be at least one NUMA node, so returning NUMA node zero\n",
            "2020-12-10 11:07:32.921102: I tensorflow/stream_executor/cuda/cuda_gpu_executor.cc:983] successful NUMA node read from SysFS had negative value (-1), but there must be at least one NUMA node, so returning NUMA node zero\n",
            "2020-12-10 11:07:32.921641: I tensorflow/core/common_runtime/gpu/gpu_device.cc:1767] Adding visible gpu devices: 0\n",
            "2020-12-10 11:07:32.921706: I tensorflow/stream_executor/platform/default/dso_loader.cc:44] Successfully opened dynamic library libcudart.so.10.1\n",
            "2020-12-10 11:07:32.922926: I tensorflow/core/common_runtime/gpu/gpu_device.cc:1180] Device interconnect StreamExecutor with strength 1 edge matrix:\n",
            "2020-12-10 11:07:32.922953: I tensorflow/core/common_runtime/gpu/gpu_device.cc:1186]      0 \n",
            "2020-12-10 11:07:32.922966: I tensorflow/core/common_runtime/gpu/gpu_device.cc:1199] 0:   N \n",
            "2020-12-10 11:07:32.923072: I tensorflow/stream_executor/cuda/cuda_gpu_executor.cc:983] successful NUMA node read from SysFS had negative value (-1), but there must be at least one NUMA node, so returning NUMA node zero\n",
            "2020-12-10 11:07:32.923752: I tensorflow/stream_executor/cuda/cuda_gpu_executor.cc:983] successful NUMA node read from SysFS had negative value (-1), but there must be at least one NUMA node, so returning NUMA node zero\n",
            "2020-12-10 11:07:32.924347: W tensorflow/core/common_runtime/gpu/gpu_bfc_allocator.cc:39] Overriding allow_growth setting because the TF_FORCE_GPU_ALLOW_GROWTH environment variable is set. Original config value was 0.\n",
            "2020-12-10 11:07:32.924410: I tensorflow/core/common_runtime/gpu/gpu_device.cc:1325] Created TensorFlow device (/job:localhost/replica:0/task:0/device:GPU:0 with 14221 MB memory) -> physical GPU (device: 0, name: Tesla T4, pci bus id: 0000:00:04.0, compute capability: 7.5)\n",
            "WARNING:tensorflow:From generate_unconditional_samples_to_file.py:55: The name tf.set_random_seed is deprecated. Please use tf.compat.v1.set_random_seed instead.\n",
            "\n",
            "WARNING:tensorflow:From /content/GPT-2_DEMO_BASE_MODELS/model.py:148: The name tf.variable_scope is deprecated. Please use tf.compat.v1.variable_scope instead.\n",
            "\n",
            "WARNING:tensorflow:From /content/GPT-2_DEMO_BASE_MODELS/model.py:152: The name tf.get_variable is deprecated. Please use tf.compat.v1.get_variable instead.\n",
            "\n",
            "WARNING:tensorflow:From /content/GPT-2_DEMO_BASE_MODELS/model.py:36: The name tf.rsqrt is deprecated. Please use tf.math.rsqrt instead.\n",
            "\n",
            "WARNING:tensorflow:From /content/GPT-2_DEMO_BASE_MODELS/model.py:166: The name tf.add_to_collection is deprecated. Please use tf.compat.v1.add_to_collection instead.\n",
            "\n",
            "WARNING:tensorflow:From /content/GPT-2_DEMO_BASE_MODELS/sample.py:66: to_float (from tensorflow.python.ops.math_ops) is deprecated and will be removed in a future version.\n",
            "Instructions for updating:\n",
            "Use `tf.cast` instead.\n",
            "WARNING:tensorflow:\n",
            "The TensorFlow contrib module will not be included in TensorFlow 2.0.\n",
            "For more information, please see:\n",
            "  * https://github.com/tensorflow/community/blob/master/rfcs/20180907-contrib-sunset.md\n",
            "  * https://github.com/tensorflow/addons\n",
            "  * https://github.com/tensorflow/io (for I/O related ops)\n",
            "If you depend on functionality not listed there, please file an issue.\n",
            "\n",
            "WARNING:tensorflow:From /content/GPT-2_DEMO_BASE_MODELS/sample.py:31: where (from tensorflow.python.ops.array_ops) is deprecated and will be removed in a future version.\n",
            "Instructions for updating:\n",
            "Use tf.where in 2.0, which has the same broadcast rule as np.where\n",
            "WARNING:tensorflow:From /content/GPT-2_DEMO_BASE_MODELS/sample.py:71: multinomial (from tensorflow.python.ops.random_ops) is deprecated and will be removed in a future version.\n",
            "Instructions for updating:\n",
            "Use `tf.random.categorical` instead.\n",
            "WARNING:tensorflow:From generate_unconditional_samples_to_file.py:64: The name tf.train.Saver is deprecated. Please use tf.compat.v1.train.Saver instead.\n",
            "\n",
            "2020-12-10 11:07:42.250639: I tensorflow/stream_executor/platform/default/dso_loader.cc:44] Successfully opened dynamic library libcublas.so.10\n"
          ],
          "name": "stdout"
        }
      ]
    },
    {
      "cell_type": "code",
      "metadata": {
        "id": "A3BXUyuAIXsQ"
      },
      "source": [
        "mkdir checkpoint/run1\n"
      ],
      "execution_count": null,
      "outputs": []
    },
    {
      "cell_type": "code",
      "metadata": {
        "id": "H5eqUdl3Gf75"
      },
      "source": [
        "# !rm -R /content/checkpoint   \n",
        "# !rm -R /content/models/124M"
      ],
      "execution_count": null,
      "outputs": []
    },
    {
      "cell_type": "code",
      "metadata": {
        "id": "OuonhlekW0ro",
        "colab": {
          "base_uri": "https://localhost:8080/"
        },
        "outputId": "09a807cd-4e65-4dbd-85c7-c00755f01a42"
      },
      "source": [
        "## TRAIN THE MODEL:\n",
        "!python /content/GPT-2_DEMO_BASE_MODELS/train.py --dataset datasets/B5.txt --restore_from latest --model_name 345M --top_k 50 --top_p 1.0 --save_every 100 --sample_every 100000 --max_to_keep 1 --val_batch_count 40"
      ],
      "execution_count": 16,
      "outputs": [
        {
          "output_type": "stream",
          "text": [
            "WARNING:tensorflow:From /content/GPT-2_DEMO_BASE_MODELS/model.py:147: The name tf.AUTO_REUSE is deprecated. Please use tf.compat.v1.AUTO_REUSE instead.\n",
            "\n",
            "WARNING:tensorflow:\n",
            "The TensorFlow contrib module will not be included in TensorFlow 2.0.\n",
            "For more information, please see:\n",
            "  * https://github.com/tensorflow/community/blob/master/rfcs/20180907-contrib-sunset.md\n",
            "  * https://github.com/tensorflow/addons\n",
            "  * https://github.com/tensorflow/io (for I/O related ops)\n",
            "If you depend on functionality not listed there, please file an issue.\n",
            "\n",
            "WARNING:tensorflow:From /content/GPT-2_DEMO_BASE_MODELS/memory_saving_gradients.py:13: The name tf.GraphKeys is deprecated. Please use tf.compat.v1.GraphKeys instead.\n",
            "\n",
            "WARNING:tensorflow:From /content/GPT-2_DEMO_BASE_MODELS/train.py:90: The name tf.ConfigProto is deprecated. Please use tf.compat.v1.ConfigProto instead.\n",
            "\n",
            "WARNING:tensorflow:From /content/GPT-2_DEMO_BASE_MODELS/train.py:93: The name tf.Session is deprecated. Please use tf.compat.v1.Session instead.\n",
            "\n",
            "2020-12-10 11:13:12.624698: I tensorflow/core/platform/profile_utils/cpu_utils.cc:94] CPU Frequency: 2200000000 Hz\n",
            "2020-12-10 11:13:12.624932: I tensorflow/compiler/xla/service/service.cc:168] XLA service 0x2958d80 initialized for platform Host (this does not guarantee that XLA will be used). Devices:\n",
            "2020-12-10 11:13:12.624975: I tensorflow/compiler/xla/service/service.cc:176]   StreamExecutor device (0): Host, Default Version\n",
            "2020-12-10 11:13:12.629065: I tensorflow/stream_executor/platform/default/dso_loader.cc:44] Successfully opened dynamic library libcuda.so.1\n",
            "2020-12-10 11:13:12.777569: I tensorflow/stream_executor/cuda/cuda_gpu_executor.cc:983] successful NUMA node read from SysFS had negative value (-1), but there must be at least one NUMA node, so returning NUMA node zero\n",
            "2020-12-10 11:13:12.778285: I tensorflow/compiler/xla/service/service.cc:168] XLA service 0x2958f40 initialized for platform CUDA (this does not guarantee that XLA will be used). Devices:\n",
            "2020-12-10 11:13:12.778324: I tensorflow/compiler/xla/service/service.cc:176]   StreamExecutor device (0): Tesla T4, Compute Capability 7.5\n",
            "2020-12-10 11:13:12.778491: I tensorflow/stream_executor/cuda/cuda_gpu_executor.cc:983] successful NUMA node read from SysFS had negative value (-1), but there must be at least one NUMA node, so returning NUMA node zero\n",
            "2020-12-10 11:13:12.779089: I tensorflow/core/common_runtime/gpu/gpu_device.cc:1639] Found device 0 with properties: \n",
            "name: Tesla T4 major: 7 minor: 5 memoryClockRate(GHz): 1.59\n",
            "pciBusID: 0000:00:04.0\n",
            "2020-12-10 11:13:12.779378: I tensorflow/stream_executor/platform/default/dso_loader.cc:44] Successfully opened dynamic library libcudart.so.10.1\n",
            "2020-12-10 11:13:12.781240: I tensorflow/stream_executor/platform/default/dso_loader.cc:44] Successfully opened dynamic library libcublas.so.10\n",
            "2020-12-10 11:13:12.782841: I tensorflow/stream_executor/platform/default/dso_loader.cc:44] Successfully opened dynamic library libcufft.so.10\n",
            "2020-12-10 11:13:12.783469: I tensorflow/stream_executor/platform/default/dso_loader.cc:44] Successfully opened dynamic library libcurand.so.10\n",
            "2020-12-10 11:13:12.785238: I tensorflow/stream_executor/platform/default/dso_loader.cc:44] Successfully opened dynamic library libcusolver.so.10\n",
            "2020-12-10 11:13:12.785986: I tensorflow/stream_executor/platform/default/dso_loader.cc:44] Successfully opened dynamic library libcusparse.so.10\n",
            "2020-12-10 11:13:12.789342: I tensorflow/stream_executor/platform/default/dso_loader.cc:44] Successfully opened dynamic library libcudnn.so.7\n",
            "2020-12-10 11:13:12.789477: I tensorflow/stream_executor/cuda/cuda_gpu_executor.cc:983] successful NUMA node read from SysFS had negative value (-1), but there must be at least one NUMA node, so returning NUMA node zero\n",
            "2020-12-10 11:13:12.790155: I tensorflow/stream_executor/cuda/cuda_gpu_executor.cc:983] successful NUMA node read from SysFS had negative value (-1), but there must be at least one NUMA node, so returning NUMA node zero\n",
            "2020-12-10 11:13:12.790926: I tensorflow/core/common_runtime/gpu/gpu_device.cc:1767] Adding visible gpu devices: 0\n",
            "2020-12-10 11:13:12.790996: I tensorflow/stream_executor/platform/default/dso_loader.cc:44] Successfully opened dynamic library libcudart.so.10.1\n",
            "2020-12-10 11:13:12.792199: I tensorflow/core/common_runtime/gpu/gpu_device.cc:1180] Device interconnect StreamExecutor with strength 1 edge matrix:\n",
            "2020-12-10 11:13:12.792224: I tensorflow/core/common_runtime/gpu/gpu_device.cc:1186]      0 \n",
            "2020-12-10 11:13:12.792234: I tensorflow/core/common_runtime/gpu/gpu_device.cc:1199] 0:   N \n",
            "2020-12-10 11:13:12.792360: I tensorflow/stream_executor/cuda/cuda_gpu_executor.cc:983] successful NUMA node read from SysFS had negative value (-1), but there must be at least one NUMA node, so returning NUMA node zero\n",
            "2020-12-10 11:13:12.792945: I tensorflow/stream_executor/cuda/cuda_gpu_executor.cc:983] successful NUMA node read from SysFS had negative value (-1), but there must be at least one NUMA node, so returning NUMA node zero\n",
            "2020-12-10 11:13:12.793533: I tensorflow/core/common_runtime/gpu/gpu_device.cc:1325] Created TensorFlow device (/job:localhost/replica:0/task:0/device:GPU:0 with 14221 MB memory) -> physical GPU (device: 0, name: Tesla T4, pci bus id: 0000:00:04.0, compute capability: 7.5)\n",
            "WARNING:tensorflow:From /content/GPT-2_DEMO_BASE_MODELS/train.py:94: The name tf.placeholder is deprecated. Please use tf.compat.v1.placeholder instead.\n",
            "\n",
            "WARNING:tensorflow:From /content/GPT-2_DEMO_BASE_MODELS/model.py:148: The name tf.variable_scope is deprecated. Please use tf.compat.v1.variable_scope instead.\n",
            "\n",
            "WARNING:tensorflow:From /content/GPT-2_DEMO_BASE_MODELS/model.py:152: The name tf.get_variable is deprecated. Please use tf.compat.v1.get_variable instead.\n",
            "\n",
            "WARNING:tensorflow:From /content/GPT-2_DEMO_BASE_MODELS/model.py:36: The name tf.rsqrt is deprecated. Please use tf.math.rsqrt instead.\n",
            "\n",
            "WARNING:tensorflow:From /content/GPT-2_DEMO_BASE_MODELS/model.py:166: The name tf.add_to_collection is deprecated. Please use tf.compat.v1.add_to_collection instead.\n",
            "\n",
            "WARNING:tensorflow:From /content/GPT-2_DEMO_BASE_MODELS/sample.py:66: to_float (from tensorflow.python.ops.math_ops) is deprecated and will be removed in a future version.\n",
            "Instructions for updating:\n",
            "Use `tf.cast` instead.\n",
            "WARNING:tensorflow:From /content/GPT-2_DEMO_BASE_MODELS/sample.py:31: where (from tensorflow.python.ops.array_ops) is deprecated and will be removed in a future version.\n",
            "Instructions for updating:\n",
            "Use tf.where in 2.0, which has the same broadcast rule as np.where\n",
            "WARNING:tensorflow:From /content/GPT-2_DEMO_BASE_MODELS/sample.py:71: multinomial (from tensorflow.python.ops.random_ops) is deprecated and will be removed in a future version.\n",
            "Instructions for updating:\n",
            "Use `tf.random.categorical` instead.\n",
            "WARNING:tensorflow:From /content/GPT-2_DEMO_BASE_MODELS/train.py:119: The name tf.trainable_variables is deprecated. Please use tf.compat.v1.trainable_variables instead.\n",
            "\n",
            "WARNING:tensorflow:From /content/GPT-2_DEMO_BASE_MODELS/train.py:123: The name tf.train.AdamOptimizer is deprecated. Please use tf.compat.v1.train.AdamOptimizer instead.\n",
            "\n",
            "WARNING:tensorflow:From /content/GPT-2_DEMO_BASE_MODELS/memory_saving_gradients.py:62: get_backward_walk_ops (from tensorflow.contrib.graph_editor.select) is deprecated and will be removed after 2019-06-06.\n",
            "Instructions for updating:\n",
            "Please use tensorflow.python.ops.op_selector.get_backward_walk_ops.\n",
            "WARNING:tensorflow:From /content/GPT-2_DEMO_BASE_MODELS/memory_saving_gradients.py:89: The name tf.get_collection is deprecated. Please use tf.compat.v1.get_collection instead.\n",
            "\n",
            "WARNING:tensorflow:From /content/GPT-2_DEMO_BASE_MODELS/train.py:146: The name tf.summary.scalar is deprecated. Please use tf.compat.v1.summary.scalar instead.\n",
            "\n",
            "WARNING:tensorflow:From /content/GPT-2_DEMO_BASE_MODELS/train.py:149: The name tf.summary.merge is deprecated. Please use tf.compat.v1.summary.merge instead.\n",
            "\n",
            "WARNING:tensorflow:From /content/GPT-2_DEMO_BASE_MODELS/train.py:151: The name tf.summary.FileWriter is deprecated. Please use tf.compat.v1.summary.FileWriter instead.\n",
            "\n",
            "WARNING:tensorflow:From /content/GPT-2_DEMO_BASE_MODELS/train.py:154: The name tf.train.Saver is deprecated. Please use tf.compat.v1.train.Saver instead.\n",
            "\n",
            "WARNING:tensorflow:From /content/GPT-2_DEMO_BASE_MODELS/train.py:158: The name tf.global_variables_initializer is deprecated. Please use tf.compat.v1.global_variables_initializer instead.\n",
            "\n",
            "Loading checkpoint checkpoint/run1/model-29\n",
            "Loading dataset...\n",
            "100% 1/1 [00:03<00:00,  3.69s/it]\n",
            "dataset has 828887 tokens\n",
            "Training...\n",
            "2020-12-10 11:13:59.625798: I tensorflow/stream_executor/platform/default/dso_loader.cc:44] Successfully opened dynamic library libcublas.so.10\n",
            "step: 30 time: 9.91 loss: 2.67 avg: 2.67\n",
            "step: 31 time: 11.48 loss: 2.55 avg: 2.61\n",
            "step: 32 time: 13.07 loss: 2.60 avg: 2.61\n",
            "step: 33 time: 14.65 loss: 2.76 avg: 2.65\n",
            "step: 34 time: 16.25 loss: 3.81 avg: 2.88\n",
            "step: 35 time: 17.84 loss: 2.57 avg: 2.83\n",
            "step: 36 time: 19.44 loss: 2.95 avg: 2.85\n",
            "step: 37 time: 21.04 loss: 3.51 avg: 2.93\n",
            "step: 38 time: 22.65 loss: 2.29 avg: 2.86\n",
            "step: 39 time: 24.26 loss: 2.41 avg: 2.81\n",
            "step: 40 time: 25.88 loss: 2.63 avg: 2.80\n",
            "step: 41 time: 27.50 loss: 2.79 avg: 2.79\n",
            "step: 42 time: 29.13 loss: 2.66 avg: 2.78\n",
            "step: 43 time: 30.77 loss: 4.14 avg: 2.89\n",
            "step: 44 time: 32.41 loss: 2.50 avg: 2.86\n",
            "step: 45 time: 34.06 loss: 2.66 avg: 2.85\n",
            "step: 46 time: 35.72 loss: 2.66 avg: 2.83\n",
            "step: 47 time: 37.38 loss: 2.63 avg: 2.82\n",
            "step: 48 time: 39.05 loss: 3.00 avg: 2.83\n",
            "step: 49 time: 40.72 loss: 2.64 avg: 2.82\n",
            "step: 50 time: 42.40 loss: 2.24 avg: 2.79\n",
            "step: 51 time: 44.08 loss: 4.06 avg: 2.85\n",
            "step: 52 time: 45.76 loss: 3.45 avg: 2.88\n",
            "step: 53 time: 47.45 loss: 2.51 avg: 2.87\n",
            "step: 54 time: 49.13 loss: 3.08 avg: 2.88\n",
            "step: 55 time: 50.81 loss: 4.12 avg: 2.93\n",
            "step: 56 time: 52.47 loss: 2.38 avg: 2.91\n",
            "step: 57 time: 54.13 loss: 2.62 avg: 2.89\n",
            "step: 58 time: 55.77 loss: 2.61 avg: 2.88\n",
            "step: 59 time: 57.41 loss: 2.60 avg: 2.87\n",
            "step: 60 time: 59.05 loss: 3.28 avg: 2.89\n",
            "step: 61 time: 60.69 loss: 2.46 avg: 2.87\n",
            "step: 62 time: 62.32 loss: 2.70 avg: 2.87\n",
            "step: 63 time: 63.94 loss: 2.39 avg: 2.85\n",
            "step: 64 time: 65.57 loss: 3.51 avg: 2.87\n",
            "step: 65 time: 67.19 loss: 3.01 avg: 2.88\n",
            "step: 66 time: 68.80 loss: 2.48 avg: 2.86\n",
            "step: 67 time: 70.42 loss: 2.49 avg: 2.85\n",
            "step: 68 time: 72.04 loss: 3.24 avg: 2.86\n",
            "step: 69 time: 73.65 loss: 2.39 avg: 2.85\n",
            "step: 70 time: 75.26 loss: 2.17 avg: 2.83\n",
            "step: 71 time: 76.87 loss: 2.44 avg: 2.82\n",
            "step: 72 time: 78.48 loss: 2.69 avg: 2.81\n",
            "step: 73 time: 80.08 loss: 4.16 avg: 2.85\n",
            "step: 74 time: 81.70 loss: 2.50 avg: 2.84\n",
            "step: 75 time: 83.30 loss: 2.42 avg: 2.83\n",
            "step: 76 time: 84.91 loss: 2.65 avg: 2.83\n",
            "step: 77 time: 86.51 loss: 2.42 avg: 2.82\n",
            "step: 78 time: 88.13 loss: 3.83 avg: 2.84\n",
            "step: 79 time: 89.74 loss: 2.45 avg: 2.83\n",
            "step: 80 time: 91.35 loss: 2.51 avg: 2.82\n",
            "step: 81 time: 92.95 loss: 2.20 avg: 2.81\n",
            "step: 82 time: 94.58 loss: 2.65 avg: 2.80\n",
            "step: 83 time: 96.19 loss: 2.70 avg: 2.80\n",
            "step: 84 time: 97.82 loss: 2.65 avg: 2.80\n",
            "step: 85 time: 99.44 loss: 2.26 avg: 2.79\n",
            "step: 86 time: 101.06 loss: 3.43 avg: 2.80\n",
            "step: 87 time: 102.68 loss: 2.53 avg: 2.79\n",
            "step: 88 time: 104.31 loss: 3.05 avg: 2.80\n",
            "step: 89 time: 105.95 loss: 2.88 avg: 2.80\n",
            "step: 90 time: 107.58 loss: 2.66 avg: 2.80\n",
            "step: 91 time: 109.21 loss: 2.65 avg: 2.80\n",
            "step: 92 time: 110.85 loss: 2.53 avg: 2.79\n",
            "step: 93 time: 112.48 loss: 3.97 avg: 2.81\n",
            "step: 94 time: 114.11 loss: 3.06 avg: 2.82\n",
            "step: 95 time: 115.75 loss: 2.56 avg: 2.81\n",
            "step: 96 time: 117.40 loss: 2.64 avg: 2.81\n",
            "step: 97 time: 119.04 loss: 3.13 avg: 2.82\n",
            "step: 98 time: 120.68 loss: 2.60 avg: 2.81\n",
            "step: 99 time: 122.32 loss: 2.83 avg: 2.81\n",
            "Saving checkpoint/run1/model-100\n",
            "step: 100 time: 131.35 loss: 2.64 avg: 2.81\n",
            "step: 101 time: 132.97 loss: 2.55 avg: 2.80\n",
            "step: 102 time: 134.59 loss: 3.93 avg: 2.83\n",
            "step: 103 time: 136.21 loss: 2.98 avg: 2.83\n",
            "step: 104 time: 137.83 loss: 2.50 avg: 2.82\n",
            "step: 105 time: 139.46 loss: 3.01 avg: 2.83\n",
            "interrupted\n",
            "Saving checkpoint/run1/model-106\n",
            "^C\n"
          ],
          "name": "stdout"
        }
      ]
    },
    {
      "cell_type": "code",
      "metadata": {
        "id": "HC4Mqu5Z_2Ip"
      },
      "source": [
        "\n",
        "\n",
        "\n",
        "       "
      ],
      "execution_count": null,
      "outputs": []
    },
    {
      "cell_type": "code",
      "metadata": {
        "id": "B3n1WG7qCSHq"
      },
      "source": [
        "!python /content/gpt-2/src/generate_conditional_samples_to_file.py --model_name_or_path output \"/content/checkpoint/run1\" --temperature 1.0 --top_k 0.0 --top_p 0.9  --nsamples 1 --length 100 --raw_text=\"The eternal sky \" --seed 42"
      ],
      "execution_count": null,
      "outputs": []
    },
    {
      "cell_type": "code",
      "metadata": {
        "id": "d8mxDNnLW05t"
      },
      "source": [
        "## MOUNTING GOOGLE DRIVE\n",
        "from google.colab import drive\n",
        "drive.mount('/content/drive')"
      ],
      "execution_count": null,
      "outputs": []
    },
    {
      "cell_type": "code",
      "metadata": {
        "id": "6XVBISYmClFL"
      },
      "source": [
        "/content/gpt-2/src/generate_conditional_samples_to_file.py"
      ],
      "execution_count": null,
      "outputs": []
    },
    {
      "cell_type": "code",
      "metadata": {
        "id": "VNrSFmrwW1HK"
      },
      "source": [
        "## ZIPPING TRAINED MODEL FOR EXPORT\n",
        "!tar -czvf \"Shelley_4_SM_130000.tar.gz\" \"/content/checkpoint/run1/130000\""
      ],
      "execution_count": null,
      "outputs": []
    },
    {
      "cell_type": "code",
      "metadata": {
        "id": "381MaXPL8dx2"
      },
      "source": [
        "!rm -Rv /content/checkpoint/run1/130000/"
      ],
      "execution_count": null,
      "outputs": []
    },
    {
      "cell_type": "code",
      "metadata": {
        "id": "BJ_GVlKCZJi7"
      },
      "source": [
        "## EXPORTING FILE TO DRIVE\n",
        "!cp \"Shelley_4_SM_130000.tar.gz\" \"/content/drive/My Drive/\""
      ],
      "execution_count": null,
      "outputs": []
    },
    {
      "cell_type": "code",
      "metadata": {
        "id": "JzdKXL-PW1Uo"
      },
      "source": [
        "## IMPORTING FILE FROM DRIVE\n",
        "!cp \"/content/drive/My Drive/Shelley_4_SM_130000.tar.gz\"  \"/content/checkpoint/run1/Shelley_4_SM_130000.tar.gz\""
      ],
      "execution_count": null,
      "outputs": []
    },
    {
      "cell_type": "code",
      "metadata": {
        "id": "CgvsARDtEZZd"
      },
      "source": [
        "mkdir checkpoint"
      ],
      "execution_count": null,
      "outputs": []
    },
    {
      "cell_type": "code",
      "metadata": {
        "id": "ZgIoEKgGW1iG"
      },
      "source": [
        "## UNZIPPING IMPORTED MODEL\n",
        "!tar xf \"/content/checkpoint/run1/Shelley_4_SM_130000.tar.gz\""
      ],
      "execution_count": null,
      "outputs": []
    },
    {
      "cell_type": "code",
      "metadata": {
        "id": "Sd69zYE2W1xE"
      },
      "source": [
        "# !python \"/content/gpt-2/src/generate_unconditional_samples.py\" --model_name=345M"
      ],
      "execution_count": null,
      "outputs": []
    },
    {
      "cell_type": "code",
      "metadata": {
        "id": "g5SyXMMhd1lA"
      },
      "source": [
        "# !python \"/content/gpt-2/src/generate_conditional_samples_to_file.py\" --model_name=345M --raw_text=\"the sky\""
      ],
      "execution_count": null,
      "outputs": []
    },
    {
      "cell_type": "code",
      "metadata": {
        "id": "snr7sA9FuXWr"
      },
      "source": [
        "# !python \"/content/gpt-2/src/interactive_conditional_samples.py\" --model_name=345M"
      ],
      "execution_count": null,
      "outputs": []
    },
    {
      "cell_type": "code",
      "metadata": {
        "id": "yPL-H7CiufUJ"
      },
      "source": [
        ""
      ],
      "execution_count": null,
      "outputs": []
    }
  ]
}